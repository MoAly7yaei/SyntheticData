{
 "cells": [
  {
   "cell_type": "code",
   "execution_count": 18,
   "metadata": {},
   "outputs": [],
   "source": [
    "import os\n",
    "\n",
    "import pandas as pd\n",
    "import numpy as np\n",
    "import matplotlib.pyplot as plt\n",
    "import seaborn as sns\n",
    "\n",
    "from IPython.core.interactiveshell import InteractiveShell\n",
    "InteractiveShell.ast_node_interactivity = \"all\"\n",
    "from autoviz import AutoViz_Class\n",
    "%matplotlib inline\n"
   ]
  },
  {
   "cell_type": "code",
   "execution_count": 19,
   "metadata": {},
   "outputs": [],
   "source": [
    "\n",
    "#Generate X and Y values for the first time and y_values will be used in another function\n",
    "def generate_data(correlation, n_samples=1000, min_value=-10, max_value=10, noise=0.1, z_score=2):\n",
    "    # Generate random values for x within the specified range\n",
    "    x_values = np.random.uniform(min_value, max_value, n_samples)\n",
    "    \n",
    "    # Calculate the mean and standard deviation of x\n",
    "    x_mean = np.mean(x_values)\n",
    "    x_std = np.std(x_values)\n",
    "    \n",
    "    # Generate random noise\n",
    "    noise_values = np.random.normal(0, noise, n_samples)\n",
    "    \n",
    "    # Generate random values for y within the specified range\n",
    "    y_values = np.random.uniform(min_value, max_value, n_samples)\n",
    "    \n",
    "    # Calculate the mean and standard deviation of y\n",
    "    y_mean = np.mean(y_values)\n",
    "    y_std = np.std(y_values)\n",
    "    \n",
    "    # Calculate the slope and intercept based on the desired correlation\n",
    "    slope = correlation * (y_std / x_std)\n",
    "    intercept = y_mean - slope * x_mean\n",
    "    \n",
    "    # Generate y values based on the linear relationship with x and add noise\n",
    "    y_values = slope * (x_values - x_mean) / x_std + intercept + noise_values\n",
    "    \n",
    "    # Identify and remove outliers based on the z-score threshold\n",
    "    z_scores = np.abs((y_values - np.mean(y_values)) / np.std(y_values))\n",
    "    outliers = z_scores > z_score\n",
    "    x_values = x_values[~outliers]\n",
    "    y_values = y_values[~outliers]\n",
    "\n",
    "    outliers_mask = ~outliers\n",
    "    \n",
    "    return x_values, y_values, outliers_mask"
   ]
  },
  {
   "cell_type": "code",
   "execution_count": 20,
   "metadata": {},
   "outputs": [],
   "source": [
    "\n",
    "\n",
    "def generate_x_from_y(correlation, y_values, n_samples=1000, min_value=-10, max_value=10, noise=0.1, z_score=2):\n",
    "    # Generate random values for x within the specified range\n",
    "    x_values = np.random.uniform(min_value, max_value, n_samples)\n",
    "    \n",
    "    # Calculate the mean and standard deviation of x\n",
    "    x_mean = np.mean(x_values)\n",
    "    x_std = np.std(x_values)\n",
    "    \n",
    "    # Generate random noise\n",
    "    noise_values = np.random.normal(0, noise, n_samples)\n",
    "    \n",
    "    # Calculate the slope and intercept based on the desired correlation\n",
    "    slope = correlation * (np.std(y_values) / x_std)\n",
    "    intercept = np.mean(y_values) - slope * x_mean\n",
    "    \n",
    "    # Generate new x values based on the linear relationship with y and add noise\n",
    "    new_x_values = (y_values - intercept) / slope * x_std + x_mean + noise_values\n",
    "    \n",
    "    # Identify and remove outliers based on the z-score threshold\n",
    "    z_scores = np.abs((new_x_values - np.mean(new_x_values)) / np.std(new_x_values))\n",
    "    outliers = z_scores > z_score\n",
    "    new_x_values = new_x_values[~outliers]\n",
    "    y_values = y_values[~outliers]\n",
    "    \n",
    "    return new_x_values, y_values"
   ]
  },
  {
   "cell_type": "code",
   "execution_count": 21,
   "metadata": {},
   "outputs": [
    {
     "ename": "IndexError",
     "evalue": "boolean index did not match indexed array along dimension 0; dimension is 998 but corresponding boolean dimension is 1000",
     "output_type": "error",
     "traceback": [
      "\u001b[0;31m---------------------------------------------------------------------------\u001b[0m",
      "\u001b[0;31mIndexError\u001b[0m                                Traceback (most recent call last)",
      "Cell \u001b[0;32mIn[21], line 18\u001b[0m\n\u001b[1;32m     16\u001b[0m \u001b[38;5;66;03m# Apply the outlier mask to all arrays\u001b[39;00m\n\u001b[1;32m     17\u001b[0m dsp \u001b[38;5;241m=\u001b[39m dsp[mask]\n\u001b[0;32m---> 18\u001b[0m fan_speed \u001b[38;5;241m=\u001b[39m fan_speed[mask]\n\u001b[1;32m     19\u001b[0m base_eth \u001b[38;5;241m=\u001b[39m base_eth[mask]\n\u001b[1;32m     20\u001b[0m humidity \u001b[38;5;241m=\u001b[39m humidity[mask]\n",
      "\u001b[0;31mIndexError\u001b[0m: boolean index did not match indexed array along dimension 0; dimension is 998 but corresponding boolean dimension is 1000"
     ]
    }
   ],
   "source": []
  },
  {
   "cell_type": "code",
   "execution_count": null,
   "metadata": {},
   "outputs": [],
   "source": []
  }
 ],
 "metadata": {
  "kernelspec": {
   "display_name": "base",
   "language": "python",
   "name": "python3"
  },
  "language_info": {
   "codemirror_mode": {
    "name": "ipython",
    "version": 3
   },
   "file_extension": ".py",
   "mimetype": "text/x-python",
   "name": "python",
   "nbconvert_exporter": "python",
   "pygments_lexer": "ipython3",
   "version": "3.11.5"
  }
 },
 "nbformat": 4,
 "nbformat_minor": 2
}
