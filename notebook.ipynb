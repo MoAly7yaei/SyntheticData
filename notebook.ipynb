{
 "cells": [
  {
   "cell_type": "code",
   "execution_count": 6,
   "metadata": {},
   "outputs": [],
   "source": [
    "import pandas as pd\n",
    "import numpy as np\n",
    "import random\n",
    "import os\n",
    "import matplotlib.pyplot as plt"
   ]
  },
  {
   "cell_type": "code",
   "execution_count": 7,
   "metadata": {},
   "outputs": [
    {
     "data": {
      "text/html": [
       "<div>\n",
       "<style scoped>\n",
       "    .dataframe tbody tr th:only-of-type {\n",
       "        vertical-align: middle;\n",
       "    }\n",
       "\n",
       "    .dataframe tbody tr th {\n",
       "        vertical-align: top;\n",
       "    }\n",
       "\n",
       "    .dataframe thead th {\n",
       "        text-align: right;\n",
       "    }\n",
       "</style>\n",
       "<table border=\"1\" class=\"dataframe\">\n",
       "  <thead>\n",
       "    <tr style=\"text-align: right;\">\n",
       "      <th></th>\n",
       "      <th>Day since planted</th>\n",
       "      <th>Humidity (%)</th>\n",
       "      <th>Temperature (°C)</th>\n",
       "      <th>Daily Sun Exposure (hours)</th>\n",
       "      <th>Water pH Level</th>\n",
       "      <th>Nutrient Level</th>\n",
       "      <th>Sun Exposure Intensity (Lux)</th>\n",
       "      <th>Visible Light Wavelength (nm)</th>\n",
       "      <th>Temperature Deviation (°C)</th>\n",
       "      <th>Humidity Deviation (%)</th>\n",
       "      <th>Fan Speed (%)</th>\n",
       "      <th>ETH (days)</th>\n",
       "    </tr>\n",
       "  </thead>\n",
       "  <tbody>\n",
       "    <tr>\n",
       "      <th>0</th>\n",
       "      <td>14</td>\n",
       "      <td>57.730128</td>\n",
       "      <td>45.990332</td>\n",
       "      <td>16.649643</td>\n",
       "      <td>6.793428</td>\n",
       "      <td>0.000000</td>\n",
       "      <td>10601.372326</td>\n",
       "      <td>652.771837</td>\n",
       "      <td>36.777776</td>\n",
       "      <td>74.504621</td>\n",
       "      <td>46</td>\n",
       "      <td>75.03</td>\n",
       "    </tr>\n",
       "    <tr>\n",
       "      <th>1</th>\n",
       "      <td>25</td>\n",
       "      <td>74.375930</td>\n",
       "      <td>38.869505</td>\n",
       "      <td>17.710963</td>\n",
       "      <td>5.523471</td>\n",
       "      <td>0.881499</td>\n",
       "      <td>10600.838546</td>\n",
       "      <td>653.738138</td>\n",
       "      <td>0.000000</td>\n",
       "      <td>67.445246</td>\n",
       "      <td>89</td>\n",
       "      <td>69.52</td>\n",
       "    </tr>\n",
       "    <tr>\n",
       "      <th>2</th>\n",
       "      <td>2</td>\n",
       "      <td>75.360337</td>\n",
       "      <td>25.894456</td>\n",
       "      <td>16.415160</td>\n",
       "      <td>7.095377</td>\n",
       "      <td>1.462313</td>\n",
       "      <td>10576.678423</td>\n",
       "      <td>653.115880</td>\n",
       "      <td>35.721185</td>\n",
       "      <td>72.414376</td>\n",
       "      <td>0</td>\n",
       "      <td>52.27</td>\n",
       "    </tr>\n",
       "    <tr>\n",
       "      <th>3</th>\n",
       "      <td>19</td>\n",
       "      <td>84.452607</td>\n",
       "      <td>15.295948</td>\n",
       "      <td>17.384077</td>\n",
       "      <td>8.846060</td>\n",
       "      <td>4.000000</td>\n",
       "      <td>10603.058377</td>\n",
       "      <td>653.904008</td>\n",
       "      <td>21.494139</td>\n",
       "      <td>85.720976</td>\n",
       "      <td>93</td>\n",
       "      <td>61.03</td>\n",
       "    </tr>\n",
       "    <tr>\n",
       "      <th>4</th>\n",
       "      <td>39</td>\n",
       "      <td>47.662833</td>\n",
       "      <td>35.473350</td>\n",
       "      <td>14.212771</td>\n",
       "      <td>5.331693</td>\n",
       "      <td>2.723519</td>\n",
       "      <td>10622.190923</td>\n",
       "      <td>654.571699</td>\n",
       "      <td>35.611866</td>\n",
       "      <td>94.167850</td>\n",
       "      <td>56</td>\n",
       "      <td>59.34</td>\n",
       "    </tr>\n",
       "  </tbody>\n",
       "</table>\n",
       "</div>"
      ],
      "text/plain": [
       "   Day since planted  Humidity (%)  Temperature (°C)  \\\n",
       "0                 14     57.730128         45.990332   \n",
       "1                 25     74.375930         38.869505   \n",
       "2                  2     75.360337         25.894456   \n",
       "3                 19     84.452607         15.295948   \n",
       "4                 39     47.662833         35.473350   \n",
       "\n",
       "   Daily Sun Exposure (hours)  Water pH Level  Nutrient Level  \\\n",
       "0                   16.649643        6.793428        0.000000   \n",
       "1                   17.710963        5.523471        0.881499   \n",
       "2                   16.415160        7.095377        1.462313   \n",
       "3                   17.384077        8.846060        4.000000   \n",
       "4                   14.212771        5.331693        2.723519   \n",
       "\n",
       "   Sun Exposure Intensity (Lux)  Visible Light Wavelength (nm)  \\\n",
       "0                  10601.372326                     652.771837   \n",
       "1                  10600.838546                     653.738138   \n",
       "2                  10576.678423                     653.115880   \n",
       "3                  10603.058377                     653.904008   \n",
       "4                  10622.190923                     654.571699   \n",
       "\n",
       "   Temperature Deviation (°C)  Humidity Deviation (%)  Fan Speed (%)  \\\n",
       "0                   36.777776               74.504621             46   \n",
       "1                    0.000000               67.445246             89   \n",
       "2                   35.721185               72.414376              0   \n",
       "3                   21.494139               85.720976             93   \n",
       "4                   35.611866               94.167850             56   \n",
       "\n",
       "   ETH (days)  \n",
       "0       75.03  \n",
       "1       69.52  \n",
       "2       52.27  \n",
       "3       61.03  \n",
       "4       59.34  "
      ]
     },
     "execution_count": 7,
     "metadata": {},
     "output_type": "execute_result"
    }
   ],
   "source": [
    "\"\"\"\n",
    "The Argument is The correlation between variables is non-realistic\n",
    "\"\"\"\n",
    "\n",
    "\n",
    "\n",
    "np.random.seed(42)\n",
    "\n",
    "\n",
    "n_rows = 1000\n",
    "\n",
    "\n",
    "mean_ph = 5.8\n",
    "std_dev_ph = 2\n",
    "water_ph_level = np.random.normal(mean_ph, std_dev_ph, n_rows)\n",
    "water_ph_level = np.clip(water_ph_level, 0, 14)\n",
    "\n",
    "\n",
    "mean_temp = 25\n",
    "std_dev_temp = 15\n",
    "temperature = np.random.normal(mean_temp, std_dev_temp, n_rows)\n",
    "temperature = np.clip(temperature, 0, 60)\n",
    "\n",
    "\n",
    "mean_exp = 18\n",
    "std_dev_exp = 2\n",
    "daily_sun_exposure = np.random.normal(mean_exp, std_dev_exp, n_rows)\n",
    "daily_sun_exposure = np.clip(daily_sun_exposure, 12, 19)\n",
    "\n",
    "\n",
    "mean_nutrient = 2\n",
    "std_dev_nutrient = 1.3\n",
    "nutrient = np.random.normal(mean_nutrient, std_dev_nutrient, n_rows)\n",
    "nutrient = np.clip(nutrient, 0, 4)\n",
    "\n",
    "\n",
    "mean_humidity = 75\n",
    "std_dev_humidity = 20\n",
    "humidity = np.random.normal(mean_humidity, std_dev_humidity, n_rows)\n",
    "humidity = np.clip(humidity, 0, 101)\n",
    "\n",
    "\n",
    "mean_sun = 10609\n",
    "std_dev_sun = 18\n",
    "sun_exposure_intensity = np.random.normal(mean_sun, std_dev_sun, n_rows)\n",
    "sun_exposure_intensity = np.clip(sun_exposure_intensity, 800, 100000) #Clear Day and Dark night\n",
    "\n",
    "\n",
    "mean_wl = 655\n",
    "std_dev_wl = 2\n",
    "visible_light_wavelength = np.random.normal(mean_wl, std_dev_wl, n_rows)\n",
    "visible_light_wavelength = np.clip(visible_light_wavelength, 380, 741)\n",
    "\n",
    "\n",
    "mean_temp = 25\n",
    "std_dev_temp = 15\n",
    "temperature_deviation = np.random.normal(mean_temp, std_dev_temp, n_rows)\n",
    "temperature_deviation = np.clip(temperature_deviation, 0, 60)\n",
    "\n",
    "mean_h = 75\n",
    "std_dev_h = 15\n",
    "humidity_deviation = np.random.normal(mean_h, std_dev_h, n_rows)\n",
    "humidity_deviation = np.clip(humidity_deviation, 0, 100)\n",
    "\n",
    "# Generating synthetic values within specified value ranges\n",
    "dsp = np.random.randint(0, 76, n_rows)\n",
    "fan_speed = np.random.randint(0,100, n_rows)\n",
    "\n",
    "\n",
    "\n",
    "# Base ETH (in days) for lettuce under ideal conditions: Assuming a base range of 50-70 days\n",
    "base_eth = np.random.randint(45, 61, n_rows)\n",
    "\n",
    "# Adjusting ETH based on generated parameters\n",
    "# Assuming humidity and sun exposure intensity can shorten ETH by up to 10%, \n",
    "# while extreme temperatures (>30 degrees) and high wind speeds (>15 m/s) can increase ETH by up to 15%\n",
    "\n",
    "eth_adjustments = (0.05 * humidity / 100) + \\\n",
    "                  (0.05 * abs((sun_exposure_intensity - 32000) / (100000 - 32000))) + \\\n",
    "                  (0.1 * (temperature > 30)) + \\\n",
    "                  (0.1 * abs((daily_sun_exposure - 18) / (18 - 12))) + \\\n",
    "                  (0.1 * abs((water_ph_level - 5.8) / 14)) + \\\n",
    "                  (0.1 * abs((nutrient - 2) / 3)) + \\\n",
    "                  (0.05 * abs((visible_light_wavelength - 650) / (740 - 380))) + \\\n",
    "                  (0.1 * abs((temperature_deviation - 25) / 60)) + \\\n",
    "                  (0.05 * (humidity_deviation / 100)) + \\\n",
    "                  (-0.01 * (fan_speed / 100))\n",
    "\n",
    "adjusted_eth = base_eth + (base_eth * eth_adjustments)\n",
    "adjusted_eth = np.clip(adjusted_eth, 45, None)\n",
    "                  \n",
    "\n",
    "\n",
    "adjusted_eth = base_eth + (base_eth * eth_adjustments)\n",
    "\n",
    "# Creating a DataFrame with the fake data\n",
    "fake_df = pd.DataFrame({\n",
    "    'Day since planted': dsp,\n",
    "    'Humidity (%)': humidity,\n",
    "    'Temperature (°C)': temperature,\n",
    "    'Daily Sun Exposure (hours)': daily_sun_exposure,\n",
    "    'Water pH Level': water_ph_level,\n",
    "    'Nutrient Level': nutrient,\n",
    "    'Sun Exposure Intensity (Lux)': sun_exposure_intensity,\n",
    "    'Visible Light Wavelength (nm)': visible_light_wavelength,\n",
    "    'Temperature Deviation (°C)': temperature_deviation,\n",
    "    'Humidity Deviation (%)': humidity_deviation,\n",
    "    'Fan Speed (%)': fan_speed,\n",
    "    'ETH (days)': np.round(adjusted_eth, 2)\n",
    "})\n",
    "\n",
    "\n",
    "# Display the first few rows of the fake dataset\n",
    "fake_df.head()\n"
   ]
  },
  {
   "cell_type": "code",
   "execution_count": 8,
   "metadata": {},
   "outputs": [
    {
     "data": {
      "image/png": "[encoded data removed]",
      "text/plain": [
       "<Figure size 1000x600 with 1 Axes>"
      ]
     },
     "metadata": {},
     "output_type": "display_data"
    }
   ],
   "source": [
    "# Select the variables for the bar plot\n",
    "x = fake_df['Humidity (%)']\n",
    "y = fake_df['ETH (days)']\n",
    "\n",
    "# Create a figure and axis\n",
    "fig, ax = plt.subplots(figsize=(10, 6))\n",
    "\n",
    "# Create the bar plot\n",
    "ax.scatter(x, y)\n",
    "\n",
    "# Set the plot title and labels\n",
    "ax.set_title('ETH vs. Days since Planted')\n",
    "ax.set_xlabel('Humidity (%)')\n",
    "ax.set_ylabel('ETH (days)')\n",
    "\n",
    "# Rotate the x-tick labels for better readability (optional)\n",
    "plt.xticks(rotation=45)\n",
    "\n",
    "# Display the plot\n",
    "plt.tight_layout()\n",
    "plt.show()"
   ]
  },
  {
   "cell_type": "code",
   "execution_count": 3,
   "metadata": {},
   "outputs": [
    {
     "ename": "NameError",
     "evalue": "name 'fake_df' is not defined",
     "output_type": "error",
     "traceback": [
      "\u001b[0;31m---------------------------------------------------------------------------\u001b[0m",
      "\u001b[0;31mNameError\u001b[0m                                 Traceback (most recent call last)",
      "Cell \u001b[0;32mIn[3], line 2\u001b[0m\n\u001b[1;32m      1\u001b[0m \u001b[38;5;66;03m# Select the variables for the bar plot\u001b[39;00m\n\u001b[0;32m----> 2\u001b[0m x \u001b[38;5;241m=\u001b[39m fake_df[\u001b[38;5;124m'\u001b[39m\u001b[38;5;124mTemperature (°C)\u001b[39m\u001b[38;5;124m'\u001b[39m]\n\u001b[1;32m      3\u001b[0m y \u001b[38;5;241m=\u001b[39m fake_df[\u001b[38;5;124m'\u001b[39m\u001b[38;5;124mETH (days)\u001b[39m\u001b[38;5;124m'\u001b[39m]\n\u001b[1;32m      5\u001b[0m \u001b[38;5;66;03m# Create a figure and axis\u001b[39;00m\n",
      "\u001b[0;31mNameError\u001b[0m: name 'fake_df' is not defined"
     ]
    }
   ],
   "source": [
    "# Select the variables for the bar plot\n",
    "x = fake_df['Temperature (°C)']\n",
    "y = fake_df['ETH (days)']\n",
    "\n",
    "# Create a figure and axis\n",
    "fig, ax = plt.subplots(figsize=(10, 6))\n",
    "\n",
    "# Create the bar plot\n",
    "ax.scatter(x, y)\n",
    "\n",
    "# Set the plot title and labels\n",
    "ax.set_title('Temperature (°C)')\n",
    "ax.set_xlabel('Humidity (%)')\n",
    "ax.set_ylabel('ETH (days)')\n",
    "\n",
    "# Rotate the x-tick labels for better readability (optional)\n",
    "plt.xticks(rotation=45)\n",
    "\n",
    "# Display the plot\n",
    "plt.tight_layout()\n",
    "plt.show()"
   ]
  },
  {
   "cell_type": "code",
   "execution_count": 4,
   "metadata": {},
   "outputs": [
    {
     "ename": "NameError",
     "evalue": "name 'fake_df' is not defined",
     "output_type": "error",
     "traceback": [
      "\u001b[0;31m---------------------------------------------------------------------------\u001b[0m",
      "\u001b[0;31mNameError\u001b[0m                                 Traceback (most recent call last)",
      "Cell \u001b[0;32mIn[4], line 1\u001b[0m\n\u001b[0;32m----> 1\u001b[0m fake_df\u001b[38;5;241m.\u001b[39mcorr()\n",
      "\u001b[0;31mNameError\u001b[0m: name 'fake_df' is not defined"
     ]
    }
   ],
   "source": [
    "fake_df.corr()"
   ]
  },
  {
   "cell_type": "code",
   "execution_count": 5,
   "metadata": {},
   "outputs": [
    {
     "ename": "NameError",
     "evalue": "name 'fake_df' is not defined",
     "output_type": "error",
     "traceback": [
      "\u001b[0;31m---------------------------------------------------------------------------\u001b[0m",
      "\u001b[0;31mNameError\u001b[0m                                 Traceback (most recent call last)",
      "Cell \u001b[0;32mIn[5], line 1\u001b[0m\n\u001b[0;32m----> 1\u001b[0m fake_df\u001b[38;5;241m.\u001b[39mdescribe()\n",
      "\u001b[0;31mNameError\u001b[0m: name 'fake_df' is not defined"
     ]
    }
   ],
   "source": [
    "fake_df.describe()"
   ]
  },
  {
   "cell_type": "code",
   "execution_count": 33,
   "metadata": {},
   "outputs": [],
   "source": [
    "fake_df.to_csv(os.getcwd() + '/fake_df.csv')"
   ]
  },
  {
   "cell_type": "code",
   "execution_count": null,
   "metadata": {},
   "outputs": [],
   "source": []
  },
  {
   "cell_type": "code",
   "execution_count": 34,
   "metadata": {},
   "outputs": [],
   "source": [
    "from sklearn.preprocessing import MinMaxScaler\n",
    "from sklearn.model_selection import train_test_split\n",
    "from sklearn.metrics import mean_absolute_error, mean_squared_error, r2_score\n"
   ]
  },
  {
   "cell_type": "code",
   "execution_count": 35,
   "metadata": {},
   "outputs": [],
   "source": [
    "data = fake_df.copy()"
   ]
  },
  {
   "cell_type": "code",
   "execution_count": 36,
   "metadata": {},
   "outputs": [
    {
     "data": {
      "text/plain": [
       "((700, 11), (150, 11), (150, 11))"
      ]
     },
     "execution_count": 36,
     "metadata": {},
     "output_type": "execute_result"
    }
   ],
   "source": [
    "from sklearn.model_selection import train_test_split\n",
    "\n",
    "# Removing the unnecessary 'Unnamed: 0' column\n",
    "#data_cleaned = data.drop(columns=['Unnamed: 0'])\n",
    "\n",
    "# Splitting the data into features (X) and target (y)\n",
    "X = data.drop(columns=['ETH (days)'])\n",
    "y = data['ETH (days)']\n",
    "\n",
    "# Splitting the dataset into training, validation, and test sets\n",
    "X_train, X_temp, y_train, y_temp = train_test_split(X, y, test_size=0.3, random_state=42)\n",
    "X_val, X_test, y_val, y_test = train_test_split(X_temp, y_temp, test_size=0.5, random_state=42)\n",
    "\n",
    "# Checking the shapes of the splits\n",
    "X_train.shape, X_val.shape, X_test.shape"
   ]
  },
  {
   "cell_type": "code",
   "execution_count": 37,
   "metadata": {},
   "outputs": [
    {
     "data": {
      "text/plain": [
       "({'max_depth': None,\n",
       "  'min_samples_leaf': 1,\n",
       "  'min_samples_split': 2,\n",
       "  'n_estimators': 2000},\n",
       " 3.7119086999999915)"
      ]
     },
     "execution_count": 37,
     "metadata": {},
     "output_type": "execute_result"
    }
   ],
   "source": [
    "from sklearn.model_selection import GridSearchCV\n",
    "from sklearn.ensemble import RandomForestRegressor\n",
    "\n",
    "\n",
    "# Defining the parameter grid\n",
    "param_grid = {\n",
    "    'n_estimators': [100, 2000],\n",
    "    'max_depth': [None, 10, 200],\n",
    "    'min_samples_split': [1, 550],\n",
    "    'min_samples_leaf': [1, 550]\n",
    "}\n",
    "\n",
    "# Initializing the Grid Search with Random Forest Regressor and 5-fold cross-validation\n",
    "grid_search = GridSearchCV(estimator=RandomForestRegressor(random_state=42), param_grid=param_grid, cv=5, n_jobs=-1, scoring='neg_mean_absolute_error')\n",
    "\n",
    "# Fitting the grid search to the data\n",
    "grid_search.fit(X_train, y_train)\n",
    "\n",
    "# Best parameters found\n",
    "best_params = grid_search.best_params_\n",
    "best_score = -grid_search.best_score_  # Scoring was negative MAE, so we negate it to get positive MAE\n",
    "\n",
    "best_params, best_score"
   ]
  },
  {
   "cell_type": "code",
   "execution_count": 38,
   "metadata": {},
   "outputs": [
    {
     "data": {
      "text/plain": [
       "(3.297021966666635, 4.696351528443953, 0.9854737185280228)"
      ]
     },
     "execution_count": 38,
     "metadata": {},
     "output_type": "execute_result"
    }
   ],
   "source": [
    "\n",
    "# Initializing the Random Forest Regressor\n",
    "rf_model = RandomForestRegressor(n_estimators=2000, random_state=42, min_samples_leaf =1 , min_samples_split = 2, n_jobs=-1)\n",
    "\n",
    "# Training the model on the training set\n",
    "rf_model.fit(X_train, y_train)\n",
    "\n",
    "# Predicting on the validation set\n",
    "y_val_pred_rf = rf_model.predict(X_val)\n",
    "\n",
    "# Calculating evaluation metrics for the validation set\n",
    "mae_rf = mean_absolute_error(y_val, y_val_pred_rf)\n",
    "rmse_rf = np.sqrt(mean_squared_error(y_val, y_val_pred_rf))\n",
    "r2_rf = r2_score(y_val, y_val_pred_rf)\n",
    "\n",
    "mae_rf, rmse_rf, r2_rf"
   ]
  },
  {
   "cell_type": "code",
   "execution_count": 39,
   "metadata": {},
   "outputs": [],
   "source": [
    "\n",
    "import joblib\n",
    "\n",
    "# Saving the best model from grid search\n",
    "model_path = os.getcwd() + 'pred.joblib'\n",
    "joblib.dump(grid_search.best_estimator_, model_path)\n",
    "\n",
    "# Load the model to confirm it works\n",
    "loaded_model = joblib.load(model_path)"
   ]
  },
  {
   "cell_type": "code",
   "execution_count": 28,
   "metadata": {},
   "outputs": [
    {
     "ename": "KeyError",
     "evalue": "5",
     "output_type": "error",
     "traceback": [
      "\u001b[0;31m---------------------------------------------------------------------------\u001b[0m",
      "\u001b[0;31mKeyError\u001b[0m                                  Traceback (most recent call last)",
      "File \u001b[0;32m~/anaconda3/lib/python3.11/site-packages/pandas/core/indexes/base.py:3653\u001b[0m, in \u001b[0;36mIndex.get_loc\u001b[0;34m(self, key)\u001b[0m\n\u001b[1;32m   3652\u001b[0m \u001b[38;5;28;01mtry\u001b[39;00m:\n\u001b[0;32m-> 3653\u001b[0m     \u001b[38;5;28;01mreturn\u001b[39;00m \u001b[38;5;28mself\u001b[39m\u001b[38;5;241m.\u001b[39m_engine\u001b[38;5;241m.\u001b[39mget_loc(casted_key)\n\u001b[1;32m   3654\u001b[0m \u001b[38;5;28;01mexcept\u001b[39;00m \u001b[38;5;167;01mKeyError\u001b[39;00m \u001b[38;5;28;01mas\u001b[39;00m err:\n",
      "File \u001b[0;32m~/anaconda3/lib/python3.11/site-packages/pandas/_libs/index.pyx:147\u001b[0m, in \u001b[0;36mpandas._libs.index.IndexEngine.get_loc\u001b[0;34m()\u001b[0m\n",
      "File \u001b[0;32m~/anaconda3/lib/python3.11/site-packages/pandas/_libs/index.pyx:176\u001b[0m, in \u001b[0;36mpandas._libs.index.IndexEngine.get_loc\u001b[0;34m()\u001b[0m\n",
      "File \u001b[0;32mpandas/_libs/hashtable_class_helper.pxi:7080\u001b[0m, in \u001b[0;36mpandas._libs.hashtable.PyObjectHashTable.get_item\u001b[0;34m()\u001b[0m\n",
      "File \u001b[0;32mpandas/_libs/hashtable_class_helper.pxi:7088\u001b[0m, in \u001b[0;36mpandas._libs.hashtable.PyObjectHashTable.get_item\u001b[0;34m()\u001b[0m\n",
      "\u001b[0;31mKeyError\u001b[0m: 5",
      "\nThe above exception was the direct cause of the following exception:\n",
      "\u001b[0;31mKeyError\u001b[0m                                  Traceback (most recent call last)",
      "Cell \u001b[0;32mIn[28], line 2\u001b[0m\n\u001b[1;32m      1\u001b[0m \u001b[38;5;66;03m# Use the loaded model to make predictions on a small subset of the validation set (for quick verification)\u001b[39;00m\n\u001b[0;32m----> 2\u001b[0m sample_data \u001b[38;5;241m=\u001b[39m X_val[\u001b[38;5;241m5\u001b[39m]\n\u001b[1;32m      3\u001b[0m sample_labels \u001b[38;5;241m=\u001b[39m y_val[\u001b[38;5;241m5\u001b[39m]\n\u001b[1;32m      4\u001b[0m predictions \u001b[38;5;241m=\u001b[39m loaded_model\u001b[38;5;241m.\u001b[39mpredict(sample_data)\n",
      "File \u001b[0;32m~/anaconda3/lib/python3.11/site-packages/pandas/core/frame.py:3761\u001b[0m, in \u001b[0;36mDataFrame.__getitem__\u001b[0;34m(self, key)\u001b[0m\n\u001b[1;32m   3759\u001b[0m \u001b[38;5;28;01mif\u001b[39;00m \u001b[38;5;28mself\u001b[39m\u001b[38;5;241m.\u001b[39mcolumns\u001b[38;5;241m.\u001b[39mnlevels \u001b[38;5;241m>\u001b[39m \u001b[38;5;241m1\u001b[39m:\n\u001b[1;32m   3760\u001b[0m     \u001b[38;5;28;01mreturn\u001b[39;00m \u001b[38;5;28mself\u001b[39m\u001b[38;5;241m.\u001b[39m_getitem_multilevel(key)\n\u001b[0;32m-> 3761\u001b[0m indexer \u001b[38;5;241m=\u001b[39m \u001b[38;5;28mself\u001b[39m\u001b[38;5;241m.\u001b[39mcolumns\u001b[38;5;241m.\u001b[39mget_loc(key)\n\u001b[1;32m   3762\u001b[0m \u001b[38;5;28;01mif\u001b[39;00m is_integer(indexer):\n\u001b[1;32m   3763\u001b[0m     indexer \u001b[38;5;241m=\u001b[39m [indexer]\n",
      "File \u001b[0;32m~/anaconda3/lib/python3.11/site-packages/pandas/core/indexes/base.py:3655\u001b[0m, in \u001b[0;36mIndex.get_loc\u001b[0;34m(self, key)\u001b[0m\n\u001b[1;32m   3653\u001b[0m     \u001b[38;5;28;01mreturn\u001b[39;00m \u001b[38;5;28mself\u001b[39m\u001b[38;5;241m.\u001b[39m_engine\u001b[38;5;241m.\u001b[39mget_loc(casted_key)\n\u001b[1;32m   3654\u001b[0m \u001b[38;5;28;01mexcept\u001b[39;00m \u001b[38;5;167;01mKeyError\u001b[39;00m \u001b[38;5;28;01mas\u001b[39;00m err:\n\u001b[0;32m-> 3655\u001b[0m     \u001b[38;5;28;01mraise\u001b[39;00m \u001b[38;5;167;01mKeyError\u001b[39;00m(key) \u001b[38;5;28;01mfrom\u001b[39;00m \u001b[38;5;21;01merr\u001b[39;00m\n\u001b[1;32m   3656\u001b[0m \u001b[38;5;28;01mexcept\u001b[39;00m \u001b[38;5;167;01mTypeError\u001b[39;00m:\n\u001b[1;32m   3657\u001b[0m     \u001b[38;5;66;03m# If we have a listlike key, _check_indexing_error will raise\u001b[39;00m\n\u001b[1;32m   3658\u001b[0m     \u001b[38;5;66;03m#  InvalidIndexError. Otherwise we fall through and re-raise\u001b[39;00m\n\u001b[1;32m   3659\u001b[0m     \u001b[38;5;66;03m#  the TypeError.\u001b[39;00m\n\u001b[1;32m   3660\u001b[0m     \u001b[38;5;28mself\u001b[39m\u001b[38;5;241m.\u001b[39m_check_indexing_error(key)\n",
      "\u001b[0;31mKeyError\u001b[0m: 5"
     ]
    }
   ],
   "source": []
  },
  {
   "cell_type": "code",
   "execution_count": 26,
   "metadata": {},
   "outputs": [
    {
     "data": {
      "text/plain": [
       "array([31.159015, 12.42871 , 20.083935, 89.507415, 98.13944 ])"
      ]
     },
     "execution_count": 26,
     "metadata": {},
     "output_type": "execute_result"
    }
   ],
   "source": [
    "predictions"
   ]
  },
  {
   "cell_type": "code",
   "execution_count": null,
   "metadata": {},
   "outputs": [],
   "source": []
  }
 ],
 "metadata": {
  "kernelspec": {
   "display_name": "base",
   "language": "python",
   "name": "python3"
  },
  "language_info": {
   "codemirror_mode": {
    "name": "ipython",
    "version": 3
   },
   "file_extension": ".py",
   "mimetype": "text/x-python",
   "name": "python",
   "nbconvert_exporter": "python",
   "pygments_lexer": "ipython3",
   "version": "3.11.5"
  }
 },
 "nbformat": 4,
 "nbformat_minor": 2
}
